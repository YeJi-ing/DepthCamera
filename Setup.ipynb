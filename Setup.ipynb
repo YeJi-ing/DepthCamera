{
 "cells": [
  {
   "attachments": {},
   "cell_type": "markdown",
   "metadata": {},
   "source": [
    "### Intel® RealSense™ Depth Camera D435i\n",
    "\n",
    "#### 1. 개발 환경\n",
    "* **Ubuntu 20.04**\n",
    "* **ROS Noetic**\n",
    "\n",
    "#### 2. Reference\n",
    "* [**Install Guide**](https://github.com/IntelRealSense/librealsense/blob/master/doc/distribution_linux.md)\n",
    "* [**Build Guide**](https://dev.intelrealsense.com/docs/compiling-librealsense-for-linux-ubuntu-guide?_ga=2.83260758.1370179658.1673004072-1295741204.1673004072)\n",
    "* [**realsense-ros**](https://github.com/IntelRealSense/realsense-ros)\n",
    "  - [참고 사이트](https://doongdoongeee.tistory.com/99)"
   ]
  },
  {
   "attachments": {},
   "cell_type": "markdown",
   "metadata": {},
   "source": [
    "#### 3. SDK 2.0 설치 \n",
    "update & upgrade:\n",
    "```\n",
    "  sudo apt-get update && sudo apt-get upgrade\n",
    "\n",
    "```\n",
    "\n",
    "(1) server's public key 등록\n",
    "```\n",
    "  sudo apt-key adv --keyserver keyserver.ubuntu.com --recv-key F6E65AC044F831AC80A06380C8B3A55A6F3EFCDE || sudo apt-key adv --keyserver hkp://keyserver.ubuntu.com:80 --recv-key F6E65AC044F831AC80A06380C8B3A55A6F3EFCDE\n",
    "```\n",
    "\n",
    "(2) 리포지토리 목록에 서버 추가\n",
    "```\n",
    "  sudo add-apt-repository \"deb https://librealsense.intel.com/Debian/apt-repo $(lsb_release -cs) main\" -u\n",
    "```\n",
    "\n",
    "(3) libraries 설치\n",
    "```\n",
    "  sudo apt-get install librealsense2-dkms\n",
    "```\n",
    "```\n",
    "  sudo apt-get install librealsense2-utils\n",
    "```\n",
    "\n",
    "(4) (옵션) developer and debug packages 설치\n",
    "```\n",
    "  sudo apt-get install librealsense2-dev\n",
    "```\n",
    "```\n",
    "  sudo apt-get install librealsense2-dbg\n",
    "```\n",
    "\n"
   ]
  },
  {
   "attachments": {},
   "cell_type": "markdown",
   "metadata": {},
   "source": [
    "##### 4. viewer 실행 \n",
    "```\n",
    "  realsense-viewer\n",
    "```"
   ]
  },
  {
   "attachments": {},
   "cell_type": "markdown",
   "metadata": {},
   "source": [
    "##### 5. camera 노드 실행\n",
    "(각 코드는 하나씩만 실행되어야 한다.) <br>\n",
    "\n",
    "[실행]\n",
    "```\n",
    "  roslaunch realsense2_camera rs_camera.launch\n",
    "```\n",
    "[포인트 클라우드 생성]\n",
    "```\n",
    " roslaunch realsense2_camera rs_camera.launch filters:=pointcloud\n",
    " ```\n",
    "(Fixed Frame: camera_color_frame)\n",
    "\n",
    "[IMU arguments 추가 실행]\n",
    "```\n",
    " roslaunch realsense2_camera rs_camera.launch filters:=pointcloud unite_imu_method:=\"linear_interpolation\" enable_gyro:=true enable_accel:=true\n",
    "```"
   ]
  },
  {
   "attachments": {},
   "cell_type": "markdown",
   "metadata": {},
   "source": [
    "##### 6. 확인 \n",
    "(1)\n",
    "```\n",
    "  rqt_graph\n",
    "```\n",
    "\n",
    "(2)\n",
    "```\n",
    "  rviz\n",
    "```\n",
    "- \"Global Option\"-\"Fixed Frame\": camera_accel_optical.. <br>\n",
    "- IMU: /camera/imu <br>\n",
    "- PointCloud2: /camera/depth/color/.. <br>\n",
    "\n",
    "(3)\n",
    "```\n",
    "  rostopic echo /camera/imu\n",
    "```"
   ]
  },
  {
   "attachments": {},
   "cell_type": "markdown",
   "metadata": {},
   "source": [
    "##### 7. SLAM: opensource_tracking.launch\n",
    "1. 노드를 실행: roslaunch realsense2_camera opensource_tracking.launch align_depth:=true\n",
    "2. 기록: rosbag record -O my_bagfile_1.bag /camera/aligned_depth_to_color/camera_info  camera/aligned_depth_to_color/image_raw /camera/color/camera_info /camera/color/image_raw /camera/imu /camera/imu_info /tf_static\n",
    "3. 2D 맵으로 변환: rosrun map_server map_saver map:=/rtabmap/proj_map –f my_map_1\n",
    "4. .pcd로 저장: rosrun pcl_ros pointcloud_to_pcd input:=/rtabmap/cloud_map\n",
    "5. .pcd 열기: pcl_viewer 파일이름.pcd \n",
    "    (install pcl_viewer : sudo apt-get install pcl-tools)"
   ]
  },
  {
   "cell_type": "markdown",
   "metadata": {},
   "source": []
  }
 ],
 "metadata": {
  "kernelspec": {
   "display_name": "Python 3",
   "language": "python",
   "name": "python3"
  },
  "language_info": {
   "name": "python",
   "version": "3.11.1 (tags/v3.11.1:a7a450f, Dec  6 2022, 19:58:39) [MSC v.1934 64 bit (AMD64)]"
  },
  "orig_nbformat": 4,
  "vscode": {
   "interpreter": {
    "hash": "7e7f45d4da17bea1732820bd39aeddcec0fe066fd60c4ea877aa228fb4023673"
   }
  }
 },
 "nbformat": 4,
 "nbformat_minor": 2
}
